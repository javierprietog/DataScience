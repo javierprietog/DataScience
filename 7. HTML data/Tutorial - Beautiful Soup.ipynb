{
 "cells": [
  {
   "cell_type": "markdown",
   "metadata": {},
   "source": [
    "# Tutorial - Beautiful Soup"
   ]
  },
  {
   "cell_type": "markdown",
   "metadata": {},
   "source": [
    "### What is Beautiful Soup?"
   ]
  },
  {
   "cell_type": "markdown",
   "metadata": {},
   "source": [
    "**Beautiful Soup** is a Python package for extracting data from HTML files. Other packages provide more powerful tools, but, since Beautiful Soup is friendlier, most **web scraping** practitioners start there and do not leave Beautiful Soup unless their projects get really complex.\n",
    "\n",
    "This tutorial covers the very basics of Beautiful Soup using a toy example of HTML code. It is assumed that version 4 of the package is already installed in your computer. If it is not, you can install it by entering `pip install bs4` in the operating system shell (or in the Jupyter console). "
   ]
  },
  {
   "cell_type": "markdown",
   "metadata": {},
   "source": [
    "### A toy HTML example"
   ]
  },
  {
   "cell_type": "markdown",
   "metadata": {},
   "source": [
    "An extremely simple example of a **HTML document** follows. \n",
    "\n",
    "    <html>\n",
    "\n",
    "\t<head>\n",
    "    \n",
    "        <title>Data Viz</title>\n",
    "    \n",
    "    </head>\n",
    "\n",
    "\t<body>\n",
    "\n",
    "\t\t<div class=\"course\">Data Visualization</div>\n",
    "\n",
    "\t\t<div class=\"program\">MBA full-time</div>`\n",
    "\n",
    "\t\t<a class=\"professor\" href=\"https://www.iese.edu/faculty-research/faculty/miguel-angel-canela\">Miguel Ángel Canela</a>\n",
    "\n",
    "\t</body>\n",
    "\n",
    "\t</html>"
   ]
  },
  {
   "cell_type": "markdown",
   "metadata": {},
   "source": [
    "You can use Beautiful Soup with any string that contains HTML code. To use the above example, I create a string variable, whose value is the HTML code. Note that I mark the line breaks with the backslash (`\\`)."
   ]
  },
  {
   "cell_type": "code",
   "execution_count": 15,
   "metadata": {},
   "outputs": [],
   "source": [
    "html_str = '<html> \\\n",
    "  <head> \\\n",
    "  <title>Data Viz</title> \\\n",
    "  </head> \\\n",
    "  <body> \\\n",
    "  <div class=\"course\">Data Visualization</div> \\\n",
    "  <div class=\"program\">MBA full-time</div> \\\n",
    "  <a class=\"professor\" \\\n",
    "  href=\"https://www.iese.edu/faculty-research/faculty/miguel-angel-canela\">Miguel Ángel Canela</a> \\\n",
    "  </body> \\\n",
    "  </html>'"
   ]
  },
  {
   "cell_type": "code",
   "execution_count": 16,
   "metadata": {},
   "outputs": [
    {
     "data": {
      "text/plain": [
       "'<html>   <head>   <title>Data Viz</title>   </head>   <body>   <div class=\"course\">Data Visualization</div>   <div class=\"program\">MBA full-time</div>   <a class=\"professor\"   href=\"https://www.iese.edu/faculty-research/faculty/miguel-angel-canela\">Miguel Ángel Canela</a>   </body>   </html>'"
      ]
     },
     "execution_count": 16,
     "metadata": {},
     "output_type": "execute_result"
    }
   ],
   "source": [
    "html_str"
   ]
  },
  {
   "cell_type": "markdown",
   "metadata": {},
   "source": [
    "### Parsing HTML code"
   ]
  },
  {
   "cell_type": "markdown",
   "metadata": {},
   "source": [
    "I import the function `BeautifulSoup` as:"
   ]
  },
  {
   "cell_type": "code",
   "execution_count": 17,
   "metadata": {},
   "outputs": [],
   "source": [
    "from bs4 import BeautifulSoup"
   ]
  },
  {
   "cell_type": "markdown",
   "metadata": {},
   "source": [
    "This function can parse the string `html_str`, learning the tree structure. To do this, I enter:"
   ]
  },
  {
   "cell_type": "code",
   "execution_count": 18,
   "metadata": {},
   "outputs": [],
   "source": [
    "soup = BeautifulSoup(html_str, 'html.parser')"
   ]
  },
  {
   "cell_type": "markdown",
   "metadata": {},
   "source": [
    "`BeautifulSoup` returns a \"soup\" object, storing the contents of `html_str` in a way that the different pieces of information can be extracted. To get this, it uses a **parser**, which is a program which breaks the string into substrings based on the tags. \n",
    "\n",
    "Beautiful Soup does not come with a parser. It uses the one that it preferes among those available in your computer. If `'html.parser'` is specified, the choice is the parser available in the Python Standard Library, so you do not need any additional package. Since this is a rather technical issue, it is better to start in this way. \n",
    "\n",
    "The object `soup` has a special type:"
   ]
  },
  {
   "cell_type": "code",
   "execution_count": 19,
   "metadata": {},
   "outputs": [
    {
     "data": {
      "text/plain": [
       "bs4.BeautifulSoup"
      ]
     },
     "execution_count": 19,
     "metadata": {},
     "output_type": "execute_result"
    }
   ],
   "source": [
    "type(soup)"
   ]
  },
  {
   "cell_type": "markdown",
   "metadata": {},
   "source": [
    "The contents of `soup` can be displayed:"
   ]
  },
  {
   "cell_type": "code",
   "execution_count": 20,
   "metadata": {},
   "outputs": [
    {
     "data": {
      "text/plain": [
       "<html> <head> <title>Data Viz</title> </head> <body> <div class=\"course\">Data Visualization</div> <div class=\"program\">MBA full-time</div> <a class=\"professor\" href=\"https://www.iese.edu/faculty-research/faculty/miguel-angel-canela\">Miguel Ángel Canela</a> </body> </html>"
      ]
     },
     "execution_count": 20,
     "metadata": {},
     "output_type": "execute_result"
    }
   ],
   "source": [
    "soup"
   ]
  },
  {
   "cell_type": "markdown",
   "metadata": {},
   "source": [
    "The same is true por the elements contained in `soup`, as we will see below. But we have to see first how to extract this elelements from the soup."
   ]
  },
  {
   "cell_type": "markdown",
   "metadata": {},
   "source": [
    "### The method find"
   ]
  },
  {
   "cell_type": "markdown",
   "metadata": {},
   "source": [
    " `BeautifulSoup` objects come with several methods attached. This tutorial focuses on two of them, `find` and `find_all`. A first example of `find`:"
   ]
  },
  {
   "cell_type": "code",
   "execution_count": 26,
   "metadata": {},
   "outputs": [
    {
     "data": {
      "text/plain": [
       "<head> <title>Data Viz</title> </head>"
      ]
     },
     "execution_count": 26,
     "metadata": {},
     "output_type": "execute_result"
    }
   ],
   "source": [
    "soup.find('head')"
   ]
  },
  {
   "cell_type": "markdown",
   "metadata": {},
   "source": [
    "`find` returns an object of type `Tag`:"
   ]
  },
  {
   "cell_type": "code",
   "execution_count": 27,
   "metadata": {},
   "outputs": [
    {
     "data": {
      "text/plain": [
       "bs4.element.Tag"
      ]
     },
     "execution_count": 27,
     "metadata": {},
     "output_type": "execute_result"
    }
   ],
   "source": [
    "type(soup.find('head'))"
   ]
  },
  {
   "cell_type": "markdown",
   "metadata": {},
   "source": [
    "Though, formally, `BeautifulSoup` and `Tag` are different types, in practice, a tag works as smaller soup:"
   ]
  },
  {
   "cell_type": "code",
   "execution_count": 28,
   "metadata": {},
   "outputs": [
    {
     "data": {
      "text/plain": [
       "<title>Data Viz</title>"
      ]
     },
     "execution_count": 28,
     "metadata": {},
     "output_type": "execute_result"
    }
   ],
   "source": [
    "soup.find('head').find('title')"
   ]
  },
  {
   "cell_type": "markdown",
   "metadata": {},
   "source": [
    "So far, I'm using `find` with a single argument, which is the name of the tag I wish to capture. If there is no such tag, `find` returns `None`:"
   ]
  },
  {
   "cell_type": "code",
   "execution_count": 29,
   "metadata": {},
   "outputs": [],
   "source": [
    "soup.find('head').find('div')"
   ]
  },
  {
   "cell_type": "code",
   "execution_count": 30,
   "metadata": {},
   "outputs": [
    {
     "data": {
      "text/plain": [
       "True"
      ]
     },
     "execution_count": 30,
     "metadata": {},
     "output_type": "execute_result"
    }
   ],
   "source": [
    "soup.find('head').find('div') == None"
   ]
  },
  {
   "cell_type": "markdown",
   "metadata": {},
   "source": [
    "But it can also be that there are more than one tag with the name specified in that element. Then, `find` returns the first one: "
   ]
  },
  {
   "cell_type": "code",
   "execution_count": 31,
   "metadata": {},
   "outputs": [
    {
     "data": {
      "text/plain": [
       "<div class=\"course\">Data Visualization</div>"
      ]
     },
     "execution_count": 31,
     "metadata": {},
     "output_type": "execute_result"
    }
   ],
   "source": [
    "soup.find('div')"
   ]
  },
  {
   "cell_type": "markdown",
   "metadata": {},
   "source": [
    "In this case, we can use the attributes to distinguish among tags with the same name:"
   ]
  },
  {
   "cell_type": "code",
   "execution_count": 38,
   "metadata": {},
   "outputs": [
    {
     "data": {
      "text/plain": [
       "<div class=\"course\">Data Visualization</div>"
      ]
     },
     "execution_count": 38,
     "metadata": {},
     "output_type": "execute_result"
    }
   ],
   "source": [
    "soup.find('div', {'class': 'course'})"
   ]
  },
  {
   "cell_type": "markdown",
   "metadata": {},
   "source": [
    "In general, the attribute values are specified in a dictionary, as shown in the above example. But the attribute `class`, which is the one used in most cases, is an exception, and can be specified in a shorter way:"
   ]
  },
  {
   "cell_type": "code",
   "execution_count": 34,
   "metadata": {},
   "outputs": [
    {
     "data": {
      "text/plain": [
       "<div class=\"program\">MBA full-time</div>"
      ]
     },
     "execution_count": 34,
     "metadata": {},
     "output_type": "execute_result"
    }
   ],
   "source": [
    "soup.find('div', 'program')"
   ]
  },
  {
   "cell_type": "markdown",
   "metadata": {},
   "source": [
    "### The method find_all"
   ]
  },
  {
   "cell_type": "markdown",
   "metadata": {},
   "source": [
    "The method `find_all` uses the same syntax as `find`, but returns a list with all the tags that satisfy the specification:"
   ]
  },
  {
   "cell_type": "code",
   "execution_count": 35,
   "metadata": {},
   "outputs": [
    {
     "data": {
      "text/plain": [
       "[<div class=\"course\">Data Visualization</div>,\n",
       " <div class=\"program\">MBA full-time</div>]"
      ]
     },
     "execution_count": 35,
     "metadata": {},
     "output_type": "execute_result"
    }
   ],
   "source": [
    "soup.find_all('div')"
   ]
  },
  {
   "cell_type": "markdown",
   "metadata": {},
   "source": [
    "`find_all` *always returns a list*. The list can be empty (`find` would return `None` in that case): "
   ]
  },
  {
   "cell_type": "code",
   "execution_count": 36,
   "metadata": {},
   "outputs": [
    {
     "data": {
      "text/plain": [
       "[]"
      ]
     },
     "execution_count": 36,
     "metadata": {},
     "output_type": "execute_result"
    }
   ],
   "source": [
    "soup.find('head').find_all('div')"
   ]
  },
  {
   "cell_type": "markdown",
   "metadata": {},
   "source": [
    "When there is only one tag in the list, that tag is precisely the one returned by `find`:"
   ]
  },
  {
   "cell_type": "code",
   "execution_count": 37,
   "metadata": {},
   "outputs": [
    {
     "data": {
      "text/plain": [
       "[<div class=\"course\">Data Visualization</div>]"
      ]
     },
     "execution_count": 37,
     "metadata": {},
     "output_type": "execute_result"
    }
   ],
   "source": [
    "soup.find_all('div', 'course')"
   ]
  },
  {
   "cell_type": "markdown",
   "metadata": {},
   "source": [
    "### Extracting information from a tag element"
   ]
  },
  {
   "cell_type": "markdown",
   "metadata": {},
   "source": [
    "The information we wish to extract from a tag element can come as text between the start tag and the end tag, or as the value of an attribute. The method `text` extracts all the text between the tags (including children tags, if there are):"
   ]
  },
  {
   "cell_type": "code",
   "execution_count": 39,
   "metadata": {},
   "outputs": [
    {
     "data": {
      "text/plain": [
       "'Miguel Ángel Canela'"
      ]
     },
     "execution_count": 39,
     "metadata": {},
     "output_type": "execute_result"
    }
   ],
   "source": [
    "soup.find('a').text"
   ]
  },
  {
   "cell_type": "markdown",
   "metadata": {},
   "source": [
    "Note that this method cannot be applied directly to the list returned by `find_all`: "
   ]
  },
  {
   "cell_type": "code",
   "execution_count": 40,
   "metadata": {},
   "outputs": [
    {
     "ename": "AttributeError",
     "evalue": "ResultSet object has no attribute 'text'. You're probably treating a list of elements like a single element. Did you call find_all() when you meant to call find()?",
     "output_type": "error",
     "traceback": [
      "\u001b[0;31m---------------------------------------------------------------------------\u001b[0m",
      "\u001b[0;31mAttributeError\u001b[0m                            Traceback (most recent call last)",
      "\u001b[0;32m/var/folders/31/s8zm623d60d4jc40vdn21tnc0000gn/T/ipykernel_56441/3644496290.py\u001b[0m in \u001b[0;36m<module>\u001b[0;34m\u001b[0m\n\u001b[0;32m----> 1\u001b[0;31m \u001b[0msoup\u001b[0m\u001b[0;34m.\u001b[0m\u001b[0mfind_all\u001b[0m\u001b[0;34m(\u001b[0m\u001b[0;34m'div'\u001b[0m\u001b[0;34m)\u001b[0m\u001b[0;34m.\u001b[0m\u001b[0mtext\u001b[0m\u001b[0;34m\u001b[0m\u001b[0;34m\u001b[0m\u001b[0m\n\u001b[0m",
      "\u001b[0;32m/opt/anaconda3/lib/python3.7/site-packages/bs4/element.py\u001b[0m in \u001b[0;36m__getattr__\u001b[0;34m(self, key)\u001b[0m\n\u001b[1;32m   2252\u001b[0m         \u001b[0;34m\"\"\"Raise a helpful exception to explain a common code fix.\"\"\"\u001b[0m\u001b[0;34m\u001b[0m\u001b[0;34m\u001b[0m\u001b[0m\n\u001b[1;32m   2253\u001b[0m         raise AttributeError(\n\u001b[0;32m-> 2254\u001b[0;31m             \u001b[0;34m\"ResultSet object has no attribute '%s'. You're probably treating a list of elements like a single element. Did you call find_all() when you meant to call find()?\"\u001b[0m \u001b[0;34m%\u001b[0m \u001b[0mkey\u001b[0m\u001b[0;34m\u001b[0m\u001b[0;34m\u001b[0m\u001b[0m\n\u001b[0m\u001b[1;32m   2255\u001b[0m         )\n",
      "\u001b[0;31mAttributeError\u001b[0m: ResultSet object has no attribute 'text'. You're probably treating a list of elements like a single element. Did you call find_all() when you meant to call find()?"
     ]
    }
   ],
   "source": [
    "soup.find_all('div').text"
   ]
  },
  {
   "cell_type": "markdown",
   "metadata": {},
   "source": [
    "The right way to extract the text from all the tags in that list is:"
   ]
  },
  {
   "cell_type": "code",
   "execution_count": 41,
   "metadata": {},
   "outputs": [
    {
     "data": {
      "text/plain": [
       "['Data Visualization', 'MBA full-time']"
      ]
     },
     "execution_count": 41,
     "metadata": {},
     "output_type": "execute_result"
    }
   ],
   "source": [
    "[t.text for t in soup.find_all('div')]"
   ]
  },
  {
   "cell_type": "markdown",
   "metadata": {},
   "source": [
    "Beautiful Soup stores the attribute values as a dictionary. So, to extract the value of an attribute, we use the attribute name as a key."
   ]
  },
  {
   "cell_type": "code",
   "execution_count": 43,
   "metadata": {},
   "outputs": [
    {
     "data": {
      "text/plain": [
       "'https://www.iese.edu/faculty-research/faculty/miguel-angel-canela'"
      ]
     },
     "execution_count": 43,
     "metadata": {},
     "output_type": "execute_result"
    }
   ],
   "source": [
    "soup.find('a')['href']"
   ]
  },
  {
   "cell_type": "markdown",
   "metadata": {},
   "source": [
    "### Homework"
   ]
  },
  {
   "cell_type": "markdown",
   "metadata": {},
   "source": [
    "IESE Business School displays information of the Faculty members in 11 web pages. The URL for the second one is `https://www.iese.edu/search/professors/2`. You can get the source code of the page through the contextual menu that opens when right-clicking anywhere on the page. The file `iese.html` contains that code, slightly edited by dropping tabs and line breaks that may foul Python when copypasting the code in the console. \n",
    "\n",
    "1. Copy the code from the file from the file `iese.html`, enter `html_str = ''` in the Pyton console and paste the code between the quote marks. Then press the `Return` key. Then, you will have the source code as a string in Python. This sgring is much longer than in my toy example, and contains other tags, like `<ul>`, `<li>` and `<script>`. \n",
    "\n",
    "2. Use the tools presented in this tutorial to parse `html_str`, extracting three lists, with the professors's names (eg \"Miguel Ángel Canela\"), the professors' descriptions (eg \"Associate Professor of Managerial Decision Sciences\") and the links to the professors' individual pages (eg \"https://www.iese.edu/faculty-research/faculty/miguel-angel-canela\"), respectively. \n",
    "\n",
    "3. Use the function `pd.DataFrame` to create a data frame with three columns, `name`, `description` and `link`, containing the data of the these lists.\n",
    "\n",
    "4. Use the function `.to_excel` to export the data collected to an Excel file."
   ]
  }
 ],
 "metadata": {
  "kernelspec": {
   "display_name": "Python 3 (ipykernel)",
   "language": "python",
   "name": "python3"
  },
  "language_info": {
   "codemirror_mode": {
    "name": "ipython",
    "version": 3
   },
   "file_extension": ".py",
   "mimetype": "text/x-python",
   "name": "python",
   "nbconvert_exporter": "python",
   "pygments_lexer": "ipython3",
   "version": "3.9.7"
  }
 },
 "nbformat": 4,
 "nbformat_minor": 4
}
