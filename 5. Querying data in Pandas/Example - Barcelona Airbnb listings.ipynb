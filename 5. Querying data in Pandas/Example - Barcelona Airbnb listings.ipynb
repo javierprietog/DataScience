{
 "cells": [
  {
   "cell_type": "markdown",
   "metadata": {},
   "source": [
    "# Example - Barcelona Airbnb listings"
   ]
  },
  {
   "cell_type": "markdown",
   "metadata": {},
   "source": [
    "### Introduction"
   ]
  },
  {
   "cell_type": "markdown",
   "metadata": {},
   "source": [
    "**Airbnb** is a peer-to-peer online marketplace and homestay network, which enables people to list or rent short-term lodging in residential properties, with the cost of such accommodation set by the property owner. The company receives percentage service fees from both guests and hosts in conjunction with every booking. Starting in 2008, it has grown exponentially, and it currently has over 2 million listings in about 200 countries.\n",
    "\n",
    "Airbnb currently releases and updates data at the Inside Airbnb site (`insideairbnb.com`). The update posted in July 2019 covers 101 areas, most of them in US and Europe. In this example, we use data from Barcelona, captured on April 14th, 2019. "
   ]
  },
  {
   "cell_type": "markdown",
   "metadata": {},
   "source": [
    "### The data set"
   ]
  },
  {
   "cell_type": "markdown",
   "metadata": {},
   "source": [
    "The file `airbnb.csv` contains data on 18,302 Airbnb listings in Barcelona. The language in the descriptions is typically English or Spanish (with exceptions). The text comes in UTF-8 encoding, so special characters may not be correctly shown (in Spanish words such as \"habitación\") in Windows machines and Microsoft applications. \n",
    "\n",
    "The variables are:\n",
    "\n",
    "* `listing_id`, a unique listing's ID. An active listing is a property listed on Airbnb. Listings may include entire homes or apartments, private rooms or shared spaces.\n",
    "\n",
    "* `host_id`, a unique host's ID.\n",
    "\n",
    "* `host_since`, the date of the host's first listing in Airbnb, as yyyy-mm-dd.\n",
    "\n",
    "* `name`, the listing's name. A minimal description (maximum 35 characters) of the place, intended to be appealing, such as \"Centric Bohemian next Ramblas\\&Macba\".\n",
    "\n",
    "* `neighbourhood`, the neighbourhood of the listing. The neighbourhoods are sourced from city or open source GIS files.\n",
    "\n",
    "* `property_type`, the type of property listed. Typically 'Appartment', 'Bed & Breakfast' or 'House', but it can also be 'Boat', 'Loft', or others.\n",
    "\n",
    "* `room_type`, taking values 'Entire home/apt', 'Private room' and 'Shared room'.\n",
    "\n",
    "* `bedrooms` the number of available bedrooms.\n",
    "\n",
    "* `price`, the daily listing's price on that date in euros. The price shown is for the listing as a whole, not per person. The price that you see when you search Airbnb (with dates selected) is the total price divided by the number of nights you selected. When a listing has been booked for several days, the price can be lower, since the host can apply different prices depending on the number of days booked.\n",
    "\n",
    "* `number_of_reviews`, the number of reviews of that listing that have been posted.\n",
    "\n",
    "* `review_scores_rating`, the average reviewers' rating of overall experience (*what was your guest’s overall experience?*). Listings are rated in the range 1-100. \n",
    "\n",
    "\n",
    "Source: Inside Airbnb, edited.\n"
   ]
  },
  {
   "cell_type": "markdown",
   "metadata": {},
   "source": [
    "### Importing the data"
   ]
  },
  {
   "cell_type": "markdown",
   "metadata": {},
   "source": [
    "I import the data to a Pandas data frame, taking `listing_id` as the index."
   ]
  },
  {
   "cell_type": "code",
   "execution_count": 1,
   "metadata": {},
   "outputs": [],
   "source": [
    "import pandas as pd"
   ]
  },
  {
   "cell_type": "code",
   "execution_count": 2,
   "metadata": {},
   "outputs": [],
   "source": [
    "url = 'https://raw.githubusercontent.com/mcanela-iese/DataScience/main/Data/airbnb.csv'\n",
    "df = pd.read_csv(url, index_col=0)"
   ]
  },
  {
   "cell_type": "markdown",
   "metadata": {},
   "source": [
    "The contents of this data frame are explored with the method `info`:"
   ]
  },
  {
   "cell_type": "code",
   "execution_count": 3,
   "metadata": {},
   "outputs": [
    {
     "name": "stdout",
     "output_type": "stream",
     "text": [
      "<class 'pandas.core.frame.DataFrame'>\n",
      "Int64Index: 18302 entries, 18666 to 34686079\n",
      "Data columns (total 10 columns):\n",
      " #   Column                Non-Null Count  Dtype  \n",
      "---  ------                --------------  -----  \n",
      " 0   host_id               18302 non-null  int64  \n",
      " 1   host_since            18295 non-null  object \n",
      " 2   name                  18286 non-null  object \n",
      " 3   neighbourhood         18302 non-null  object \n",
      " 4   property_type         18302 non-null  object \n",
      " 5   room_type             18302 non-null  object \n",
      " 6   bedrooms              18298 non-null  float64\n",
      " 7   price                 18302 non-null  int64  \n",
      " 8   number_of_reviews     18302 non-null  int64  \n",
      " 9   review_scores_rating  14028 non-null  float64\n",
      "dtypes: float64(2), int64(3), object(5)\n",
      "memory usage: 1.5+ MB\n"
     ]
    }
   ],
   "source": [
    "df.info()"
   ]
  },
  {
   "cell_type": "markdown",
   "metadata": {},
   "source": [
    "Some columns have **missing values**. In particular, we have a relevant number of listings with no rating scores (many guests don't rate the lodgings). A missingness report can be printed with:"
   ]
  },
  {
   "cell_type": "code",
   "execution_count": 4,
   "metadata": {},
   "outputs": [
    {
     "data": {
      "text/plain": [
       "host_id                    0\n",
       "host_since                 7\n",
       "name                      16\n",
       "neighbourhood              0\n",
       "property_type              0\n",
       "room_type                  0\n",
       "bedrooms                   4\n",
       "price                      0\n",
       "number_of_reviews          0\n",
       "review_scores_rating    4274\n",
       "dtype: int64"
      ]
     },
     "execution_count": 4,
     "metadata": {},
     "output_type": "execute_result"
    }
   ],
   "source": [
    "df.isna().sum()"
   ]
  },
  {
   "cell_type": "markdown",
   "metadata": {},
   "source": [
    "Note that `df.isna()` is a data frame of the same shape as `df`, whose columns have type `bool`. With `sum`, we get the number of `True` values per column.\n",
    "\n",
    "We can also display a few rows of this data set with `head`:"
   ]
  },
  {
   "cell_type": "code",
   "execution_count": 5,
   "metadata": {},
   "outputs": [
    {
     "data": {
      "text/html": [
       "<div>\n",
       "<style scoped>\n",
       "    .dataframe tbody tr th:only-of-type {\n",
       "        vertical-align: middle;\n",
       "    }\n",
       "\n",
       "    .dataframe tbody tr th {\n",
       "        vertical-align: top;\n",
       "    }\n",
       "\n",
       "    .dataframe thead th {\n",
       "        text-align: right;\n",
       "    }\n",
       "</style>\n",
       "<table border=\"1\" class=\"dataframe\">\n",
       "  <thead>\n",
       "    <tr style=\"text-align: right;\">\n",
       "      <th></th>\n",
       "      <th>host_id</th>\n",
       "      <th>host_since</th>\n",
       "      <th>name</th>\n",
       "      <th>neighbourhood</th>\n",
       "      <th>property_type</th>\n",
       "      <th>room_type</th>\n",
       "      <th>bedrooms</th>\n",
       "      <th>price</th>\n",
       "      <th>number_of_reviews</th>\n",
       "      <th>review_scores_rating</th>\n",
       "    </tr>\n",
       "    <tr>\n",
       "      <th>listing_id</th>\n",
       "      <th></th>\n",
       "      <th></th>\n",
       "      <th></th>\n",
       "      <th></th>\n",
       "      <th></th>\n",
       "      <th></th>\n",
       "      <th></th>\n",
       "      <th></th>\n",
       "      <th></th>\n",
       "      <th></th>\n",
       "    </tr>\n",
       "  </thead>\n",
       "  <tbody>\n",
       "    <tr>\n",
       "      <th>18666</th>\n",
       "      <td>71615</td>\n",
       "      <td>2010-01-19</td>\n",
       "      <td>Flat with Sunny Terrace</td>\n",
       "      <td>el Camp de l'Arpa del Clot</td>\n",
       "      <td>Apartment</td>\n",
       "      <td>Entire home/apt</td>\n",
       "      <td>2.0</td>\n",
       "      <td>130</td>\n",
       "      <td>1</td>\n",
       "      <td>80.0</td>\n",
       "    </tr>\n",
       "    <tr>\n",
       "      <th>18674</th>\n",
       "      <td>71615</td>\n",
       "      <td>2010-01-19</td>\n",
       "      <td>Huge flat for 8 people close to Sagrada Familia</td>\n",
       "      <td>la Sagrada Família</td>\n",
       "      <td>Apartment</td>\n",
       "      <td>Entire home/apt</td>\n",
       "      <td>3.0</td>\n",
       "      <td>60</td>\n",
       "      <td>10</td>\n",
       "      <td>84.0</td>\n",
       "    </tr>\n",
       "    <tr>\n",
       "      <th>23197</th>\n",
       "      <td>90417</td>\n",
       "      <td>2010-03-09</td>\n",
       "      <td>FORUM DELUXE 5 MINS WALK  CCIB CENTER &amp; SEA!</td>\n",
       "      <td>el Besòs i el Maresme</td>\n",
       "      <td>Apartment</td>\n",
       "      <td>Entire home/apt</td>\n",
       "      <td>3.0</td>\n",
       "      <td>200</td>\n",
       "      <td>38</td>\n",
       "      <td>94.0</td>\n",
       "    </tr>\n",
       "    <tr>\n",
       "      <th>25786</th>\n",
       "      <td>108310</td>\n",
       "      <td>2010-04-14</td>\n",
       "      <td>NICE ROOM AVAILABLE IN THE HEART OF GRACIA</td>\n",
       "      <td>la Vila de Gràcia</td>\n",
       "      <td>Apartment</td>\n",
       "      <td>Private room</td>\n",
       "      <td>1.0</td>\n",
       "      <td>42</td>\n",
       "      <td>231</td>\n",
       "      <td>95.0</td>\n",
       "    </tr>\n",
       "    <tr>\n",
       "      <th>31377</th>\n",
       "      <td>134698</td>\n",
       "      <td>2010-05-29</td>\n",
       "      <td>Room for 2,  Sagrada Famili</td>\n",
       "      <td>el Baix Guinardó</td>\n",
       "      <td>Apartment</td>\n",
       "      <td>Private room</td>\n",
       "      <td>1.0</td>\n",
       "      <td>42</td>\n",
       "      <td>4</td>\n",
       "      <td>95.0</td>\n",
       "    </tr>\n",
       "  </tbody>\n",
       "</table>\n",
       "</div>"
      ],
      "text/plain": [
       "            host_id  host_since  \\\n",
       "listing_id                        \n",
       "18666         71615  2010-01-19   \n",
       "18674         71615  2010-01-19   \n",
       "23197         90417  2010-03-09   \n",
       "25786        108310  2010-04-14   \n",
       "31377        134698  2010-05-29   \n",
       "\n",
       "                                                       name  \\\n",
       "listing_id                                                    \n",
       "18666                               Flat with Sunny Terrace   \n",
       "18674       Huge flat for 8 people close to Sagrada Familia   \n",
       "23197          FORUM DELUXE 5 MINS WALK  CCIB CENTER & SEA!   \n",
       "25786            NICE ROOM AVAILABLE IN THE HEART OF GRACIA   \n",
       "31377                           Room for 2,  Sagrada Famili   \n",
       "\n",
       "                         neighbourhood property_type        room_type  \\\n",
       "listing_id                                                              \n",
       "18666       el Camp de l'Arpa del Clot     Apartment  Entire home/apt   \n",
       "18674               la Sagrada Família     Apartment  Entire home/apt   \n",
       "23197            el Besòs i el Maresme     Apartment  Entire home/apt   \n",
       "25786                la Vila de Gràcia     Apartment     Private room   \n",
       "31377                 el Baix Guinardó     Apartment     Private room   \n",
       "\n",
       "            bedrooms  price  number_of_reviews  review_scores_rating  \n",
       "listing_id                                                            \n",
       "18666            2.0    130                  1                  80.0  \n",
       "18674            3.0     60                 10                  84.0  \n",
       "23197            3.0    200                 38                  94.0  \n",
       "25786            1.0     42                231                  95.0  \n",
       "31377            1.0     42                  4                  95.0  "
      ]
     },
     "execution_count": 5,
     "metadata": {},
     "output_type": "execute_result"
    }
   ],
   "source": [
    "df.head()"
   ]
  },
  {
   "cell_type": "markdown",
   "metadata": {},
   "source": [
    "### Counting duplicates"
   ]
  },
  {
   "cell_type": "markdown",
   "metadata": {},
   "source": [
    "**Duplicates** can be detected with the method `duplicated`, which creates a Boolean mask. For instance, the listing's ID in this data set is never duplicated, so it makes sense to use it as the index: "
   ]
  },
  {
   "cell_type": "code",
   "execution_count": 6,
   "metadata": {},
   "outputs": [
    {
     "data": {
      "text/plain": [
       "0"
      ]
     },
     "execution_count": 6,
     "metadata": {},
     "output_type": "execute_result"
    }
   ],
   "source": [
    "df.index.duplicated().sum()"
   ]
  },
  {
   "cell_type": "markdown",
   "metadata": {},
   "source": [
    "But a different thing is whether several listings have exactly the same data (eg when they refer to beds in a shared bedroom). How often this happens?"
   ]
  },
  {
   "cell_type": "code",
   "execution_count": 7,
   "metadata": {},
   "outputs": [
    {
     "data": {
      "text/plain": [
       "36"
      ]
     },
     "execution_count": 7,
     "metadata": {},
     "output_type": "execute_result"
    }
   ],
   "source": [
    "df.duplicated().sum()"
   ]
  },
  {
   "cell_type": "markdown",
   "metadata": {},
   "source": [
    "How does `duplicated` work? It reads the data top-down, returning `False` for the entries that occur for the first time, and `True` for those that have already occurred before. This can be reversed. "
   ]
  },
  {
   "cell_type": "markdown",
   "metadata": {},
   "source": [
    "### How are the hosts?"
   ]
  },
  {
   "cell_type": "markdown",
   "metadata": {},
   "source": [
    "The file contains some information about the hosts, that is, the people renting the lodgings. For instance, you may be interested in the old hosts. By using a Boolean mask like `df['host_since'] < '2010-01-01'` you can select the listings with the oldest hosts. Then, `value_counts` returns a lists with the number of listings of every host:"
   ]
  },
  {
   "cell_type": "code",
   "execution_count": 8,
   "metadata": {},
   "outputs": [
    {
     "data": {
      "text/plain": [
       "10704    67\n",
       "34580     1\n",
       "44384     1\n",
       "3073      1\n",
       "41161     1\n",
       "45448     1\n",
       "Name: host_id, dtype: int64"
      ]
     },
     "execution_count": 8,
     "metadata": {},
     "output_type": "execute_result"
    }
   ],
   "source": [
    "df['host_id'][df['host_since'] < '2010-01-01'].value_counts()"
   ]
  },
  {
   "cell_type": "markdown",
   "metadata": {},
   "source": [
    "So, we have six hosts in this list. Five of them have one listing, but host 10704 looks like a company. You may wonder how frequent is this. It has been said that Airbnb was created to be a P2P network, meaning individuals renting their apartments to other individuals. But critics say that it has evolved into a platform where investors owning big real state portfolios can offer them. Is that the case in Barcelona? \n",
    "\n",
    "The ratio of the number of listings to the number of hosts can give us a reference. The list of unique host ID's can be extracted as the index of the series returned by `value_counts`. In this way, the hosts would come ordered by the number of listings. We can also get them, as an array, with the method `unique`:"
   ]
  },
  {
   "cell_type": "code",
   "execution_count": 9,
   "metadata": {},
   "outputs": [
    {
     "data": {
      "text/plain": [
       "array([    71615,     90417,    108310, ..., 261621937,  24928327,\n",
       "        10444921])"
      ]
     },
     "execution_count": 9,
     "metadata": {},
     "output_type": "execute_result"
    }
   ],
   "source": [
    "df['host_id'].unique()"
   ]
  },
  {
   "cell_type": "markdown",
   "metadata": {},
   "source": [
    "To count them:"
   ]
  },
  {
   "cell_type": "code",
   "execution_count": 10,
   "metadata": {},
   "outputs": [
    {
     "data": {
      "text/plain": [
       "(8940,)"
      ]
     },
     "execution_count": 10,
     "metadata": {},
     "output_type": "execute_result"
    }
   ],
   "source": [
    "df['host_id'].unique().shape"
   ]
  },
  {
   "cell_type": "markdown",
   "metadata": {},
   "source": [
    "So, 8,940 hosts manage 18,302 property units. Most of them have a single property:"
   ]
  },
  {
   "cell_type": "code",
   "execution_count": 11,
   "metadata": {},
   "outputs": [
    {
     "data": {
      "text/plain": [
       "6359"
      ]
     },
     "execution_count": 11,
     "metadata": {},
     "output_type": "execute_result"
    }
   ],
   "source": [
    "(df['host_id'].value_counts() == 1).sum()"
   ]
  },
  {
   "cell_type": "markdown",
   "metadata": {},
   "source": [
    "We can easily identify the hosts with the biggest portfolios:"
   ]
  },
  {
   "cell_type": "code",
   "execution_count": 12,
   "metadata": {},
   "outputs": [
    {
     "data": {
      "text/plain": [
       "4459553      200\n",
       "102947901    142\n",
       "158023606    126\n",
       "193618270    111\n",
       "170716140    107\n",
       "1391607       98\n",
       "396363        97\n",
       "36607755      82\n",
       "299462        79\n",
       "32037490      78\n",
       "Name: host_id, dtype: int64"
      ]
     },
     "execution_count": 12,
     "metadata": {},
     "output_type": "execute_result"
    }
   ],
   "source": [
    "df['host_id'].value_counts().head(10)"
   ]
  },
  {
   "cell_type": "markdown",
   "metadata": {},
   "source": [
    "The proportion of hosts with more than 10 listings is:"
   ]
  },
  {
   "cell_type": "code",
   "execution_count": 13,
   "metadata": {
    "scrolled": true
   },
   "outputs": [
    {
     "data": {
      "text/plain": [
       "0.02"
      ]
     },
     "execution_count": 13,
     "metadata": {},
     "output_type": "execute_result"
    }
   ],
   "source": [
    "(df['host_id'].value_counts() > 10).mean().round(3)"
   ]
  },
  {
   "cell_type": "markdown",
   "metadata": {},
   "source": [
    "### Distribution of price"
   ]
  },
  {
   "cell_type": "markdown",
   "metadata": {},
   "source": [
    "How is the distribution of the listing's price? We can explore this point with a histogram. The histogram is returned by the Pandas method `plot.hist`, which has already been used in a previous example."
   ]
  },
  {
   "cell_type": "code",
   "execution_count": 14,
   "metadata": {},
   "outputs": [
    {
     "data": {
      "image/png": "[encoded data removed]",
      "text/plain": [
       "<Figure size 576x432 with 1 Axes>"
      ]
     },
     "metadata": {
      "needs_background": "light"
     },
     "output_type": "display_data"
    }
   ],
   "source": [
    "df['price'].plot.hist(figsize=(8,6), color='gray', rwidth=0.98);"
   ]
  },
  {
   "cell_type": "markdown",
   "metadata": {},
   "source": [
    "This is not really useful, since some very expensive listings distort the whole picture. But we can trim the data, by dropping the most expensive listings, to get a better picture. A statistical summary, as the one returned by `describe`, can be helpful:"
   ]
  },
  {
   "cell_type": "code",
   "execution_count": 15,
   "metadata": {},
   "outputs": [
    {
     "data": {
      "text/plain": [
       "count    18302.000000\n",
       "mean       124.092831\n",
       "std        383.541316\n",
       "min          7.000000\n",
       "25%         39.000000\n",
       "50%         62.000000\n",
       "75%        110.000000\n",
       "max       9120.000000\n",
       "Name: price, dtype: float64"
      ]
     },
     "execution_count": 15,
     "metadata": {},
     "output_type": "execute_result"
    }
   ],
   "source": [
    "df['price'].describe()"
   ]
  },
  {
   "cell_type": "markdown",
   "metadata": {},
   "source": [
    "25 and 150 euros look like reasonable limits for trimming:"
   ]
  },
  {
   "cell_type": "code",
   "execution_count": 16,
   "metadata": {},
   "outputs": [
    {
     "data": {
      "image/png": "[encoded data removed]",
      "text/plain": [
       "<Figure size 576x432 with 1 Axes>"
      ]
     },
     "metadata": {
      "needs_background": "light"
     },
     "output_type": "display_data"
    }
   ],
   "source": [
    "df['price'][(df['price'] >= 25) & (df['price'] <= 150)].plot.hist(figsize=(8,6), \n",
    "  color='gray', rwidth=0.94, bins=25);"
   ]
  },
  {
   "cell_type": "markdown",
   "metadata": {},
   "source": [
    "The argument `bins=25` specifies that the range covered by the data is partitioned into 25 intervals. This, together with the limits used for trimming the data, yields intervals of length 5 euros, which makes the picture easy to read. Except for 40 euros, the intervals starting at multiples of 10 have higher bars. This is not rare. Prices don't change continuously, and hosts prefer prices which are multiples of 10. The histogram also shows that 50, 100 and 150 euros are popular prices."
   ]
  },
  {
   "cell_type": "markdown",
   "metadata": {},
   "source": [
    "*Note*. The rule for counting the observations in every bin is as follows. For an interval of limits `a` and `b`, the values `x` such that `a <= x < b` are counted. Except for the last interval, where the right limit is also included."
   ]
  },
  {
   "cell_type": "markdown",
   "metadata": {},
   "source": [
    "### Average price per room type"
   ]
  },
  {
   "cell_type": "markdown",
   "metadata": {},
   "source": [
    "Suppose that you are interested in the average price per room type. You can get this by applying `groupby`. This method groups the rows according to one or more **grouping features**. Here, you specify `groupby(by='room_type')`. Next, you select the columns to be aggregated, which, here would be just `price`. Finally, you specify the **aggregation function**. Having only the mean, you can do it just by adding `.mean()`."
   ]
  },
  {
   "cell_type": "code",
   "execution_count": 17,
   "metadata": {},
   "outputs": [
    {
     "data": {
      "text/plain": [
       "room_type\n",
       "Entire home/apt    169.3\n",
       "Private room        79.9\n",
       "Shared room        139.5\n",
       "Name: price, dtype: float64"
      ]
     },
     "execution_count": 17,
     "metadata": {},
     "output_type": "execute_result"
    }
   ],
   "source": [
    "df.groupby(by='room_type')['price'].mean().round(1)"
   ]
  },
  {
   "cell_type": "markdown",
   "metadata": {},
   "source": [
    "The differences across room types are clear and not hard to understand. But, how informative is the average price? We know that, with skewed distributions, the extreme observations on the right tail \"pull\" the mean, which can be then fall far from the middle of the distribution. In these cases, the median gives a better description of the mid prices. To get the median price per room type, just replace the aggregation function `mean` by `median`. "
   ]
  },
  {
   "cell_type": "code",
   "execution_count": 19,
   "metadata": {},
   "outputs": [
    {
     "data": {
      "text/plain": [
       "room_type\n",
       "Entire home/apt    100.0\n",
       "Private room        40.0\n",
       "Shared room         30.0\n",
       "Name: price, dtype: float64"
      ]
     },
     "execution_count": 19,
     "metadata": {},
     "output_type": "execute_result"
    }
   ],
   "source": [
    "df.groupby(by='room_type')['price'].median()"
   ]
  },
  {
   "cell_type": "markdown",
   "metadata": {},
   "source": [
    "These results make more sense than the preceding ones, where shared rooms appeared as more expensive than private rooms. Not only the mean was giving a biased perspective of the mid prices, but this effect was much stronger for the shared rooms. "
   ]
  },
  {
   "cell_type": "markdown",
   "metadata": {},
   "source": [
    "### Top-10 neighbourhoods"
   ]
  },
  {
   "cell_type": "markdown",
   "metadata": {},
   "source": [
    "To close this analysis of the Barcelona Airbnb data, we take a look at the neighbourhoods with more listings. The top-10 list can be extracted with `value_counts`:"
   ]
  },
  {
   "cell_type": "code",
   "execution_count": 20,
   "metadata": {},
   "outputs": [
    {
     "data": {
      "text/plain": [
       "la Dreta de l'Eixample                   2026\n",
       "el Raval                                 1498\n",
       "el Barri Gòtic                           1184\n",
       "l'Antiga Esquerra de l'Eixample          1044\n",
       "Sant Pere, Santa Caterina i la Ribera    1030\n",
       "la Vila de Gràcia                        1018\n",
       "la Sagrada Família                       1009\n",
       "el Poble Sec                             1006\n",
       "Sant Antoni                               904\n",
       "la Nova Esquerra de l'Eixample            780\n",
       "Name: neighbourhood, dtype: int64"
      ]
     },
     "execution_count": 20,
     "metadata": {},
     "output_type": "execute_result"
    }
   ],
   "source": [
    "df['neighbourhood'].value_counts().head(10)"
   ]
  },
  {
   "cell_type": "markdown",
   "metadata": {},
   "source": [
    "Are these neighbourhoods more expensive? We wonder if there is an association between the mid price and the amount of property listed. To get the answer, we can extract a **pivot table** with the neighbourhood in the rows and the number of listings and the mid price in the columns. We apply `groupby` as above, but using here the method `agg`, which allows for multiple aggregation. The function `count`, added in this new calculation, counts the non missing observations.\n",
    "\n",
    "Except for la Dreta de l'Eixample, we don't find a higher price associated to a higher number of listings. So, the picture is more complex than that."
   ]
  },
  {
   "cell_type": "code",
   "execution_count": 21,
   "metadata": {},
   "outputs": [
    {
     "data": {
      "text/html": [
       "<div>\n",
       "<style scoped>\n",
       "    .dataframe tbody tr th:only-of-type {\n",
       "        vertical-align: middle;\n",
       "    }\n",
       "\n",
       "    .dataframe tbody tr th {\n",
       "        vertical-align: top;\n",
       "    }\n",
       "\n",
       "    .dataframe thead th {\n",
       "        text-align: right;\n",
       "    }\n",
       "</style>\n",
       "<table border=\"1\" class=\"dataframe\">\n",
       "  <thead>\n",
       "    <tr style=\"text-align: right;\">\n",
       "      <th></th>\n",
       "      <th>count</th>\n",
       "      <th>median</th>\n",
       "    </tr>\n",
       "    <tr>\n",
       "      <th>neighbourhood</th>\n",
       "      <th></th>\n",
       "      <th></th>\n",
       "    </tr>\n",
       "  </thead>\n",
       "  <tbody>\n",
       "    <tr>\n",
       "      <th>la Dreta de l'Eixample</th>\n",
       "      <td>2026</td>\n",
       "      <td>120.0</td>\n",
       "    </tr>\n",
       "    <tr>\n",
       "      <th>el Raval</th>\n",
       "      <td>1498</td>\n",
       "      <td>51.0</td>\n",
       "    </tr>\n",
       "    <tr>\n",
       "      <th>el Barri Gòtic</th>\n",
       "      <td>1184</td>\n",
       "      <td>62.0</td>\n",
       "    </tr>\n",
       "    <tr>\n",
       "      <th>l'Antiga Esquerra de l'Eixample</th>\n",
       "      <td>1044</td>\n",
       "      <td>80.0</td>\n",
       "    </tr>\n",
       "    <tr>\n",
       "      <th>Sant Pere, Santa Caterina i la Ribera</th>\n",
       "      <td>1030</td>\n",
       "      <td>60.0</td>\n",
       "    </tr>\n",
       "    <tr>\n",
       "      <th>la Vila de Gràcia</th>\n",
       "      <td>1018</td>\n",
       "      <td>76.0</td>\n",
       "    </tr>\n",
       "    <tr>\n",
       "      <th>la Sagrada Família</th>\n",
       "      <td>1009</td>\n",
       "      <td>80.0</td>\n",
       "    </tr>\n",
       "    <tr>\n",
       "      <th>el Poble Sec</th>\n",
       "      <td>1006</td>\n",
       "      <td>62.0</td>\n",
       "    </tr>\n",
       "    <tr>\n",
       "      <th>Sant Antoni</th>\n",
       "      <td>904</td>\n",
       "      <td>70.0</td>\n",
       "    </tr>\n",
       "    <tr>\n",
       "      <th>la Nova Esquerra de l'Eixample</th>\n",
       "      <td>780</td>\n",
       "      <td>50.5</td>\n",
       "    </tr>\n",
       "  </tbody>\n",
       "</table>\n",
       "</div>"
      ],
      "text/plain": [
       "                                       count  median\n",
       "neighbourhood                                       \n",
       "la Dreta de l'Eixample                  2026   120.0\n",
       "el Raval                                1498    51.0\n",
       "el Barri Gòtic                          1184    62.0\n",
       "l'Antiga Esquerra de l'Eixample         1044    80.0\n",
       "Sant Pere, Santa Caterina i la Ribera   1030    60.0\n",
       "la Vila de Gràcia                       1018    76.0\n",
       "la Sagrada Família                      1009    80.0\n",
       "el Poble Sec                            1006    62.0\n",
       "Sant Antoni                              904    70.0\n",
       "la Nova Esquerra de l'Eixample           780    50.5"
      ]
     },
     "execution_count": 21,
     "metadata": {},
     "output_type": "execute_result"
    }
   ],
   "source": [
    "df.groupby(by='neighbourhood')['price'].agg(['count', 'median']).sort_values(by='count', ascending=False).head(10)"
   ]
  }
 ],
 "metadata": {
  "kernelspec": {
   "display_name": "Python 3 (ipykernel)",
   "language": "python",
   "name": "python3"
  },
  "language_info": {
   "codemirror_mode": {
    "name": "ipython",
    "version": 3
   },
   "file_extension": ".py",
   "mimetype": "text/x-python",
   "name": "python",
   "nbconvert_exporter": "python",
   "pygments_lexer": "ipython3",
   "version": "3.9.7"
  }
 },
 "nbformat": 4,
 "nbformat_minor": 4
}
